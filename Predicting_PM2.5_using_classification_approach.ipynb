{
 "metadata": {
  "language_info": {
   "codemirror_mode": {
    "name": "ipython",
    "version": 3
   },
   "file_extension": ".py",
   "mimetype": "text/x-python",
   "name": "python",
   "nbconvert_exporter": "python",
   "pygments_lexer": "ipython3",
   "version": "3.8.1-final"
  },
  "orig_nbformat": 2,
  "kernelspec": {
   "name": "python3",
   "display_name": "Python 3.8.1 64-bit",
   "metadata": {
    "interpreter": {
     "hash": "082e9a3bcad0a290d0001e938aa60b99250c6c2ef33a923c00b70f9826caf4b7"
    }
   }
  }
 },
 "nbformat": 4,
 "nbformat_minor": 2,
 "cells": [
  {
   "source": [
    "# Predicting particulate matter PM2 2.5 using machine learning"
   ],
   "cell_type": "markdown",
   "metadata": {}
  },
  {
   "source": [
    "## Step 0: Data Preparation for modeling \n",
    "- Load data \n",
    "- Dealing with missing data \n",
    "- EDA \n",
    "- Class definitions, if PM2.5 is less than 10 then class 1, if more than 10 then class 0 \n",
    " "
   ],
   "cell_type": "markdown",
   "metadata": {}
  },
  {
   "source": [
    "## import dependencies \n",
    "\n",
    "%matplotlib inline  \n",
    "import pandas as pd\n",
    "import numpy as np\n",
    "import seaborn as sns\n",
    "from pandas import Grouper\n",
    "\n",
    "import matplotlib.pyplot as plt \n",
    "from sklearn.preprocessing import StandardScaler\n",
    "from sklearn.model_selection import train_test_split\n",
    "\n",
    "from sklearn.linear_model import LogisticRegression\n",
    "from sklearn.neighbors import KNeighborsClassifier\n",
    "from sklearn.svm import SVC\n",
    "from sklearn.ensemble import RandomForestClassifier \n",
    "\n",
    "from sklearn.model_selection import cross_val_score\n",
    "from sklearn.metrics import classification_report\n",
    "from sklearn.metrics import confusion_matrix\n",
    "from sklearn import metrics"
   ],
   "cell_type": "code",
   "metadata": {},
   "execution_count": 5,
   "outputs": []
  },
  {
   "cell_type": "code",
   "execution_count": 6,
   "metadata": {},
   "outputs": [],
   "source": [
    "#Load the data\n",
    "df_Kensing = pd.read_csv('~/Downloads/Air-Quality-Data-SQUARES/2554737734-London_Kensington.csv', parse_dates=[['Date', 'Time']])\n",
    "#Check first 5 rows\n",
    "df_Kensing.head()"
   ]
  },
  {
   "cell_type": "code",
   "execution_count": 8,
   "metadata": {},
   "outputs": [
    {
     "output_type": "execute_result",
     "data": {
      "text/plain": [
       "Date_Time          0\n",
       "Ozone              4\n",
       "Status             4\n",
       "Nitric oxide       4\n",
       "Status.1           4\n",
       "                ... \n",
       "Unnamed: 156       4\n",
       "Unnamed: 157    9976\n",
       "Unnamed: 158       4\n",
       "Unnamed: 159    9976\n",
       "Unnamed: 160       4\n",
       "Length: 160, dtype: int64"
      ]
     },
     "metadata": {},
     "execution_count": 8
    }
   ],
   "source": [
    "#check null values \n",
    "df_Kensing.isnull().sum()"
   ]
  },
  {
   "cell_type": "code",
   "execution_count": 9,
   "metadata": {},
   "outputs": [
    {
     "output_type": "execute_result",
     "data": {
      "text/plain": [
       "       Date_Time    Ozone   Status Nitric oxide Nitrogen dioxide  \\\n",
       "count       9976     9972     9972         9972             9972   \n",
       "unique      9974     2587        2         6183             7919   \n",
       "top      nan nan  No data  V ugm-3      No data          No data   \n",
       "freq           3      505     6576           97               99   \n",
       "\n",
       "       Nitrogen oxides as nitrogen dioxide Sulphur dioxide Carbon monoxide  \\\n",
       "count                                 9972            9972            9972   \n",
       "unique                                7952            5033            4159   \n",
       "top                                No data         No data         No data   \n",
       "freq                                    99            1136             160   \n",
       "\n",
       "       Modelled Wind Direction Modelled Wind Speed Modelled Temperature  \\\n",
       "count                     9972                9972                 9972   \n",
       "unique                    3065                 118                  360   \n",
       "top                    No data                 2.2              No data   \n",
       "freq                       180                 280                  180   \n",
       "\n",
       "       PM10 particulate matter (Hourly measured)  \\\n",
       "count                                       9972   \n",
       "unique                                      1571   \n",
       "top                                      No data   \n",
       "freq                                          49   \n",
       "\n",
       "       PM2.5 particulate matter (Hourly measured)  \n",
       "count                                        9972  \n",
       "unique                                       1279  \n",
       "top                                       No data  \n",
       "freq                                           47  "
      ],
      "text/html": "<div>\n<style scoped>\n    .dataframe tbody tr th:only-of-type {\n        vertical-align: middle;\n    }\n\n    .dataframe tbody tr th {\n        vertical-align: top;\n    }\n\n    .dataframe thead th {\n        text-align: right;\n    }\n</style>\n<table border=\"1\" class=\"dataframe\">\n  <thead>\n    <tr style=\"text-align: right;\">\n      <th></th>\n      <th>Date_Time</th>\n      <th>Ozone</th>\n      <th>Status</th>\n      <th>Nitric oxide</th>\n      <th>Nitrogen dioxide</th>\n      <th>Nitrogen oxides as nitrogen dioxide</th>\n      <th>Sulphur dioxide</th>\n      <th>Carbon monoxide</th>\n      <th>Modelled Wind Direction</th>\n      <th>Modelled Wind Speed</th>\n      <th>Modelled Temperature</th>\n      <th>PM10 particulate matter (Hourly measured)</th>\n      <th>PM2.5 particulate matter (Hourly measured)</th>\n    </tr>\n  </thead>\n  <tbody>\n    <tr>\n      <th>count</th>\n      <td>9976</td>\n      <td>9972</td>\n      <td>9972</td>\n      <td>9972</td>\n      <td>9972</td>\n      <td>9972</td>\n      <td>9972</td>\n      <td>9972</td>\n      <td>9972</td>\n      <td>9972</td>\n      <td>9972</td>\n      <td>9972</td>\n      <td>9972</td>\n    </tr>\n    <tr>\n      <th>unique</th>\n      <td>9974</td>\n      <td>2587</td>\n      <td>2</td>\n      <td>6183</td>\n      <td>7919</td>\n      <td>7952</td>\n      <td>5033</td>\n      <td>4159</td>\n      <td>3065</td>\n      <td>118</td>\n      <td>360</td>\n      <td>1571</td>\n      <td>1279</td>\n    </tr>\n    <tr>\n      <th>top</th>\n      <td>nan nan</td>\n      <td>No data</td>\n      <td>V ugm-3</td>\n      <td>No data</td>\n      <td>No data</td>\n      <td>No data</td>\n      <td>No data</td>\n      <td>No data</td>\n      <td>No data</td>\n      <td>2.2</td>\n      <td>No data</td>\n      <td>No data</td>\n      <td>No data</td>\n    </tr>\n    <tr>\n      <th>freq</th>\n      <td>3</td>\n      <td>505</td>\n      <td>6576</td>\n      <td>97</td>\n      <td>99</td>\n      <td>99</td>\n      <td>1136</td>\n      <td>160</td>\n      <td>180</td>\n      <td>280</td>\n      <td>180</td>\n      <td>49</td>\n      <td>47</td>\n    </tr>\n  </tbody>\n</table>\n</div>"
     },
     "metadata": {},
     "execution_count": 9
    }
   ],
   "source": [
    "#discard unwanted columns\n",
    "df_Kensing = df_Kensing.iloc[:, :43]\n",
    "df_Kensing.columns\n",
    "#create a new dataframe with required columns\n",
    "df_Kensington = df_Kensing[['Date_Time', 'Ozone', 'Status', 'Nitric oxide', \n",
    "       'Nitrogen dioxide', 'Nitrogen oxides as nitrogen dioxide',\n",
    "    'Sulphur dioxide', 'Carbon monoxide', \n",
    "       'Modelled Wind Direction',  'Modelled Wind Speed',\n",
    "       'Modelled Temperature', 'PM10 particulate matter (Hourly measured)', 'PM2.5 particulate matter (Hourly measured)' ]]\n",
    "df_Kensington.describe()\n"
   ]
  },
  {
   "cell_type": "code",
   "execution_count": 10,
   "metadata": {},
   "outputs": [
    {
     "output_type": "stream",
     "name": "stdout",
     "text": [
      "<class 'pandas.core.frame.DataFrame'>\nRangeIndex: 9976 entries, 0 to 9975\nData columns (total 13 columns):\n #   Column                                      Non-Null Count  Dtype \n---  ------                                      --------------  ----- \n 0   Date_Time                                   9976 non-null   object\n 1   Ozone                                       9972 non-null   object\n 2   Status                                      9972 non-null   object\n 3   Nitric oxide                                9972 non-null   object\n 4   Nitrogen dioxide                            9972 non-null   object\n 5   Nitrogen oxides as nitrogen dioxide         9972 non-null   object\n 6   Sulphur dioxide                             9972 non-null   object\n 7   Carbon monoxide                             9972 non-null   object\n 8   Modelled Wind Direction                     9972 non-null   object\n 9   Modelled Wind Speed                         9972 non-null   object\n 10  Modelled Temperature                        9972 non-null   object\n 11  PM10 particulate matter (Hourly measured)   9972 non-null   object\n 12  PM2.5 particulate matter (Hourly measured)  9972 non-null   object\ndtypes: object(13)\nmemory usage: 1013.3+ KB\n"
     ]
    }
   ],
   "source": [
    "df_Kensington.info()"
   ]
  },
  {
   "cell_type": "code",
   "execution_count": 11,
   "metadata": {},
   "outputs": [],
   "source": [
    "#replace no data with np.nan \n",
    "df_Ken = df_Kensington.replace('No data', np.nan).dropna()\n"
   ]
  },
  {
   "cell_type": "code",
   "execution_count": 17,
   "metadata": {},
   "outputs": [],
   "source": [
    "#discard date-time column for the time being convert all columns datatupes to float\n",
    "df1 = df_Ken[['Ozone', 'Nitric oxide', 'Nitrogen dioxide', 'Nitrogen oxides as nitrogen dioxide', 'Sulphur dioxide', 'Carbon monoxide', 'Modelled Wind Direction', 'Modelled Wind Speed', 'Modelled Temperature', 'PM2.5 particulate matter (Hourly measured)']].astype(float)\n"
   ]
  },
  {
   "cell_type": "code",
   "execution_count": 18,
   "metadata": {},
   "outputs": [
    {
     "output_type": "stream",
     "name": "stdout",
     "text": [
      "<class 'pandas.core.frame.DataFrame'>\nInt64Index: 8224 entries, 39 to 9959\nData columns (total 10 columns):\n #   Column                                      Non-Null Count  Dtype  \n---  ------                                      --------------  -----  \n 0   Ozone                                       8224 non-null   float64\n 1   Nitric oxide                                8224 non-null   float64\n 2   Nitrogen dioxide                            8224 non-null   float64\n 3   Nitrogen oxides as nitrogen dioxide         8224 non-null   float64\n 4   Sulphur dioxide                             8224 non-null   float64\n 5   Carbon monoxide                             8224 non-null   float64\n 6   Modelled Wind Direction                     8224 non-null   float64\n 7   Modelled Wind Speed                         8224 non-null   float64\n 8   Modelled Temperature                        8224 non-null   float64\n 9   PM2.5 particulate matter (Hourly measured)  8224 non-null   float64\ndtypes: float64(10)\nmemory usage: 706.8 KB\n"
     ]
    }
   ],
   "source": [
    "df1.info()"
   ]
  },
  {
   "source": [
    "### Class definitions, if PM2.5 concentration is less than 10 then class 1, if more than 10 then class 0"
   ],
   "cell_type": "markdown",
   "metadata": {}
  },
  {
   "cell_type": "code",
   "execution_count": 20,
   "metadata": {},
   "outputs": [],
   "source": [
    "def classifier(row):\n",
    "    if row['PM2.5 particulate matter (Hourly measured)'] < 10:\n",
    "        return 1\n",
    "    else: \n",
    "        return 0\n",
    "df1['AirQuality-PM2.5'] = df1.apply(classifier, axis=1)\n"
   ]
  },
  {
   "cell_type": "code",
   "execution_count": 23,
   "metadata": {},
   "outputs": [
    {
     "output_type": "stream",
     "name": "stdout",
     "text": [
      "Total examples in Class 1 is : 6466 /n Total examples in class 0 is: 1758\n"
     ]
    }
   ],
   "source": [
    "class1 = df1['AirQuality-PM2.5'].sum()\n",
    "print(f\"Total examples in Class 1 is : {class1} /n Total examples in class 0 is: {8224-class1}\")"
   ]
  },
  {
   "source": [
    "## Step 1:  Baseline Model Training\n",
    "\n",
    "- Define X and y\n",
    "- split train and test set \n",
    "- split train dataset again to train and validation set \n",
    "- Create a dictionary of classifiers, logistic, knn, svm, and random forest\n",
    "- Fit and Predict models "
   ],
   "cell_type": "markdown",
   "metadata": {}
  },
  {
   "cell_type": "code",
   "execution_count": null,
   "metadata": {},
   "outputs": [],
   "source": [
    "classifiers = {\n",
    "    'logistic': LogisticRegression(C=C, penalty='l1',\n",
    "                                      solver='saga',\n",
    "                                      multi_class='multinomial',\n",
    "                                      max_iter=10000),\n",
    "    'knn': LogisticRegression(C=C, penalty='l2',\n",
    "                                                    solver='saga',\n",
    "                                                    multi_class='multinomial',\n",
    "                                                    max_iter=10000),\n",
    "    'L2 logistic (OvR)': LogisticRegression(C=C, penalty='l2',\n",
    "                                            solver='saga',\n",
    "                                            multi_class='ovr',\n",
    "                                            max_iter=10000),\n",
    "    'Linear SVC': SVC(kernel='linear', C=C, probability=True,\n",
    "                      random_state=0),\n",
    "    'GPC': GaussianProcessClassifier(kernel)\n",
    "}"
   ]
  },
  {
   "source": [
    "## Step 2: Model Evaluation \n",
    "\n",
    "Calculate evaluation metrics for all models using validation data \n",
    "plot ROC curve for each models. "
   ],
   "cell_type": "markdown",
   "metadata": {}
  },
  {
   "cell_type": "code",
   "execution_count": null,
   "metadata": {},
   "outputs": [],
   "source": []
  }
 ]
}